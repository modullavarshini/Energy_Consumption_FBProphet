{
 "cells": [
  {
   "cell_type": "code",
   "execution_count": 1,
   "id": "dc09e27b",
   "metadata": {},
   "outputs": [],
   "source": [
    "import os\n",
    "import pandas\n",
    "import statsmodels"
   ]
  },
  {
   "cell_type": "code",
   "execution_count": 2,
   "id": "a7d19f72",
   "metadata": {},
   "outputs": [],
   "source": [
    "os.chdir('C:/Users/Niharika/Documents/Python Scripts')"
   ]
  },
  {
   "cell_type": "code",
   "execution_count": 3,
   "id": "b517e549",
   "metadata": {},
   "outputs": [],
   "source": [
    "from pandas import read_csv\n",
    "from statsmodels.tsa.stattools import adfuller"
   ]
  },
  {
   "cell_type": "code",
   "execution_count": 4,
   "id": "876ec9ba",
   "metadata": {},
   "outputs": [],
   "source": [
    "series = read_csv('Natural Gas.csv', header=0, index_col=0, squeeze=True)"
   ]
  },
  {
   "cell_type": "code",
   "execution_count": 5,
   "id": "7bb1b3c3",
   "metadata": {},
   "outputs": [
    {
     "data": {
      "text/plain": [
       "Date\n",
       "01-03-2022    29716.799\n",
       "01-02-2022    26521.280\n",
       "01-01-2022    37520.247\n",
       "01-12-2021    32808.683\n",
       "01-11-2021    33232.928\n",
       "Name: Consumption, dtype: float64"
      ]
     },
     "execution_count": 5,
     "metadata": {},
     "output_type": "execute_result"
    }
   ],
   "source": [
    "series.head()"
   ]
  },
  {
   "cell_type": "code",
   "execution_count": 6,
   "id": "e09ba611",
   "metadata": {},
   "outputs": [
    {
     "name": "stdout",
     "output_type": "stream",
     "text": [
      "ADF Statistic: -5.693037\n",
      "p-value: 0.000001\n",
      "Critical Values:\n",
      "\t1%: -3.431\n",
      "\t5%: -2.862\n",
      "\t10%: -2.567\n"
     ]
    }
   ],
   "source": [
    "X = series.values\n",
    "result = adfuller(X)\n",
    "print('ADF Statistic: %f' % result[0])\n",
    "print('p-value: %f' % result[1])\n",
    "print('Critical Values:')\n",
    "for key, value in result[4].items():\n",
    "    print('\\t%s: %.3f' % (key, value))"
   ]
  },
  {
   "cell_type": "code",
   "execution_count": null,
   "id": "cf81a37b",
   "metadata": {},
   "outputs": [],
   "source": [
    "#P-values is less than 0.05 and the statistic value(-5.56) is less than the critical values. Hence we reject the null-hypothesis(that the data is non-stationary) and confirm that the data is stationary"
   ]
  }
 ],
 "metadata": {
  "kernelspec": {
   "display_name": "Python 3",
   "language": "python",
   "name": "python3"
  },
  "language_info": {
   "codemirror_mode": {
    "name": "ipython",
    "version": 3
   },
   "file_extension": ".py",
   "mimetype": "text/x-python",
   "name": "python",
   "nbconvert_exporter": "python",
   "pygments_lexer": "ipython3",
   "version": "3.8.8"
  }
 },
 "nbformat": 4,
 "nbformat_minor": 5
}
